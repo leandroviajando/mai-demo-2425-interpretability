{
 "cells": [
  {
   "cell_type": "code",
   "execution_count": null,
   "metadata": {},
   "outputs": [],
   "source": [
    "import torch\n",
    "import torch.nn as nn\n",
    "import torch.optim as optim\n",
    "from transformers import AutoModel, AutoTokenizer\n"
   ]
  },
  {
   "cell_type": "code",
   "execution_count": null,
   "metadata": {},
   "outputs": [],
   "source": [
    "class SparseAutoencoder(nn.Module):\n",
    "    def __init__(self, input_dim, hidden_dim, l1_penalty):\n",
    "        super(SparseAutoencoder, self).__init__()\n",
    "        self.encoder = nn.Linear(input_dim, hidden_dim)\n",
    "        self.decoder = nn.Linear(hidden_dim, input_dim)\n",
    "        self.l1_penalty = l1_penalty\n",
    "    \n",
    "    def forward(self, x):\n",
    "        encoded = torch.relu(self.encoder(x))\n",
    "        decoded = self.decoder(encoded)\n",
    "        return decoded, encoded\n",
    "\n",
    "    def loss_function(self, recon_x, x, encoded):\n",
    "        mse_loss = nn.MSELoss()(recon_x, x)\n",
    "        l1_loss = self.l1_penalty * torch.sum(torch.abs(encoded))\n",
    "        return mse_loss + l1_loss\n"
   ]
  },
  {
   "cell_type": "code",
   "execution_count": null,
   "metadata": {},
   "outputs": [],
   "source": [
    "model_name = 'distilbert-base-uncased'\n",
    "model = AutoModel.from_pretrained(model_name)\n",
    "tokenizer = AutoTokenizer.from_pretrained(model_name)\n",
    "\n",
    "# Evaluation mode\n",
    "model.eval()\n"
   ]
  },
  {
   "cell_type": "code",
   "execution_count": null,
   "metadata": {},
   "outputs": [],
   "source": [
    "input_text = \"Hello, how are you?\"\n",
    "inputs = tokenizer(input_text, return_tensors='pt')\n",
    "\n",
    "activations = {}\n",
    "\n",
    "def get_activation(name):\n",
    "    \"\"\"Hook to capture activations.\"\"\"\n",
    "    def hook(model, input, output):\n",
    "        activations[name] = output.detach()\n",
    "    return hook\n",
    "\n",
    "# Register hooks for specific layers\n",
    "hook1 = model.embeddings.register_forward_hook(get_activation('embeddings'))\n",
    "hook2 = model.transformer.layer[0].output.register_forward_hook(get_activation('layer_0_output'))\n",
    "\n",
    "# Forward pass to get activations\n",
    "with torch.no_grad():\n",
    "    outputs = model(**inputs)\n",
    "\n",
    "hook1.remove()\n",
    "hook2.remove()\n",
    "\n",
    "# Accessing the captured activations\n",
    "embeddings_activation = activations['embeddings']\n",
    "layer_0_output_activation = activations['layer_0_output']\n"
   ]
  },
  {
   "cell_type": "code",
   "execution_count": null,
   "metadata": {},
   "outputs": [],
   "source": [
    "# Layer 0 output as input for the Sparse Autoencoder\n",
    "input_dim = layer_0_output_activation.size(-1)  # Dimension of the activation\n",
    "hidden_dim = 64  # Number of features in the autoencoder\n",
    "l1_penalty = 0.001\n",
    "\n",
    "sparse_autoencoder = SparseAutoencoder(input_dim, hidden_dim, l1_penalty)\n",
    "optimizer = optim.Adam(sparse_autoencoder.parameters(), lr=0.001)\n",
    "n_epochs = 100\n",
    "\n",
    "# Training loop for the Sparse Autoencoder using the extracted activation\n",
    "for epoch in range(n_epochs):\n",
    "    optimizer.zero_grad()\n",
    "    recon_data, encoded_features = sparse_autoencoder(layer_0_output_activation)\n",
    "    loss = sparse_autoencoder.loss_function(recon_data, layer_0_output_activation, encoded_features)\n",
    "    loss.backward()\n",
    "    optimizer.step()\n",
    "    print(f'Epoch {epoch+1}, Loss: {loss.item()}')\n"
   ]
  },
  {
   "cell_type": "code",
   "execution_count": null,
   "metadata": {},
   "outputs": [],
   "source": [
    "def feature_steering(model, feature_vector):\n",
    "    with torch.no_grad():\n",
    "        # Simulate steering by modifying feature vector (clamping)\n",
    "        modified_output = feature_vector.clone()\n",
    "        \n",
    "        modified_output[0] *= 2  # Double the first feature's influence\n",
    "        \n",
    "        # Forward pass with modified features\n",
    "        outputs = model(modified_output)\n",
    "        \n",
    "    return outputs\n",
    "\n",
    "steered_output = feature_steering(model, encoded_features)\n",
    "print(\"Steered Output:\", steered_output)"
   ]
  }
 ],
 "metadata": {
  "language_info": {
   "name": "python"
  }
 },
 "nbformat": 4,
 "nbformat_minor": 2
}
